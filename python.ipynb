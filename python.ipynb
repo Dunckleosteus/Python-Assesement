{
  "nbformat": 4,
  "nbformat_minor": 0,
  "metadata": {
    "colab": {
      "provenance": [],
      "authorship_tag": "ABX9TyM4oTk2/CiiMgy6PWIdjE4u",
      "include_colab_link": true
    },
    "kernelspec": {
      "name": "python3",
      "display_name": "Python 3"
    },
    "language_info": {
      "name": "python"
    }
  },
  "cells": [
    {
      "cell_type": "markdown",
      "metadata": {
        "id": "view-in-github",
        "colab_type": "text"
      },
      "source": [
        "<a href=\"https://colab.research.google.com/github/Dunckleosteus/Python-Assesement/blob/main/python.ipynb\" target=\"_parent\"><img src=\"https://colab.research.google.com/assets/colab-badge.svg\" alt=\"Open In Colab\"/></a>"
      ]
    },
    {
      "cell_type": "code",
      "execution_count": 1,
      "metadata": {
        "id": "7r8HC3shIdYm"
      },
      "outputs": [],
      "source": [
        "import pandas as pd"
      ]
    },
    {
      "cell_type": "code",
      "source": [
        "!rm export_2021.txt\n",
        "!wget https://raw.githubusercontent.com/Dunckleosteus/Python-Assesement/refs/heads/main/export_2021.txt"
      ],
      "metadata": {
        "colab": {
          "base_uri": "https://localhost:8080/"
        },
        "id": "98h7XXbxOX6O",
        "outputId": "14e9090b-12df-435e-96c7-13f5b5661344"
      },
      "execution_count": 15,
      "outputs": [
        {
          "output_type": "stream",
          "name": "stdout",
          "text": [
            "rm: cannot remove 'export_2021.txt': No such file or directory\n",
            "--2025-01-08 18:48:52--  https://raw.githubusercontent.com/Dunckleosteus/Python-Assesement/refs/heads/main/export_2021.txt\n",
            "Resolving raw.githubusercontent.com (raw.githubusercontent.com)... 185.199.108.133, 185.199.109.133, 185.199.110.133, ...\n",
            "Connecting to raw.githubusercontent.com (raw.githubusercontent.com)|185.199.108.133|:443... connected.\n",
            "HTTP request sent, awaiting response... 200 OK\n",
            "Length: 1262416 (1.2M) [text/plain]\n",
            "Saving to: ‘export_2021.txt’\n",
            "\n",
            "export_2021.txt     100%[===================>]   1.20M  --.-KB/s    in 0.01s   \n",
            "\n",
            "2025-01-08 18:48:52 (104 MB/s) - ‘export_2021.txt’ saved [1262416/1262416]\n",
            "\n"
          ]
        }
      ]
    },
    {
      "cell_type": "markdown",
      "source": [
        "# First 5 values"
      ],
      "metadata": {
        "id": "Xk1zII4ZvqOt"
      }
    },
    {
      "cell_type": "code",
      "source": [
        "df = pd.read_csv(\"/content/export_2021.txt\", sep=\"\\t\")\n",
        "df.head(5)"
      ],
      "metadata": {
        "id": "nieC7J0bNyQC"
      },
      "execution_count": 42,
      "outputs": []
    },
    {
      "cell_type": "markdown",
      "source": [
        "# Last 5 values"
      ],
      "metadata": {
        "id": "fwnE05WUvuuv"
      }
    },
    {
      "cell_type": "code",
      "source": [
        "df.tail(5)"
      ],
      "metadata": {
        "colab": {
          "base_uri": "https://localhost:8080/",
          "height": 206
        },
        "id": "fxoKwDFdS6WP",
        "outputId": "889b6f12-6073-4125-8a61-933869e183d0"
      },
      "execution_count": 45,
      "outputs": [
        {
          "output_type": "execute_result",
          "data": {
            "text/plain": [
              "             Date   Time Temperature Pressure  Rain solar_rad  wind_speed  \\\n",
              "34213  31/12/2021  22:45        -1.8   1035.8   0.0         0         0.0   \n",
              "34214  31/12/2021  23:00        -1.8   1035.8   0.0         0         0.0   \n",
              "34215  31/12/2021  23:15        -1.9   1035.8   0.0         0         0.0   \n",
              "34216  31/12/2021  23:30          -2   1035.7   0.0         0         0.0   \n",
              "34217  31/12/2021  23:45          -2   1035.6   0.0         0         0.0   \n",
              "\n",
              "      month  \n",
              "34213    12  \n",
              "34214    12  \n",
              "34215    12  \n",
              "34216    12  \n",
              "34217    12  "
            ],
            "text/html": [
              "\n",
              "  <div id=\"df-ed8b3640-5cf8-4804-8182-1bd631e2fa49\" class=\"colab-df-container\">\n",
              "    <div>\n",
              "<style scoped>\n",
              "    .dataframe tbody tr th:only-of-type {\n",
              "        vertical-align: middle;\n",
              "    }\n",
              "\n",
              "    .dataframe tbody tr th {\n",
              "        vertical-align: top;\n",
              "    }\n",
              "\n",
              "    .dataframe thead th {\n",
              "        text-align: right;\n",
              "    }\n",
              "</style>\n",
              "<table border=\"1\" class=\"dataframe\">\n",
              "  <thead>\n",
              "    <tr style=\"text-align: right;\">\n",
              "      <th></th>\n",
              "      <th>Date</th>\n",
              "      <th>Time</th>\n",
              "      <th>Temperature</th>\n",
              "      <th>Pressure</th>\n",
              "      <th>Rain</th>\n",
              "      <th>solar_rad</th>\n",
              "      <th>wind_speed</th>\n",
              "      <th>month</th>\n",
              "    </tr>\n",
              "  </thead>\n",
              "  <tbody>\n",
              "    <tr>\n",
              "      <th>34213</th>\n",
              "      <td>31/12/2021</td>\n",
              "      <td>22:45</td>\n",
              "      <td>-1.8</td>\n",
              "      <td>1035.8</td>\n",
              "      <td>0.0</td>\n",
              "      <td>0</td>\n",
              "      <td>0.0</td>\n",
              "      <td>12</td>\n",
              "    </tr>\n",
              "    <tr>\n",
              "      <th>34214</th>\n",
              "      <td>31/12/2021</td>\n",
              "      <td>23:00</td>\n",
              "      <td>-1.8</td>\n",
              "      <td>1035.8</td>\n",
              "      <td>0.0</td>\n",
              "      <td>0</td>\n",
              "      <td>0.0</td>\n",
              "      <td>12</td>\n",
              "    </tr>\n",
              "    <tr>\n",
              "      <th>34215</th>\n",
              "      <td>31/12/2021</td>\n",
              "      <td>23:15</td>\n",
              "      <td>-1.9</td>\n",
              "      <td>1035.8</td>\n",
              "      <td>0.0</td>\n",
              "      <td>0</td>\n",
              "      <td>0.0</td>\n",
              "      <td>12</td>\n",
              "    </tr>\n",
              "    <tr>\n",
              "      <th>34216</th>\n",
              "      <td>31/12/2021</td>\n",
              "      <td>23:30</td>\n",
              "      <td>-2</td>\n",
              "      <td>1035.7</td>\n",
              "      <td>0.0</td>\n",
              "      <td>0</td>\n",
              "      <td>0.0</td>\n",
              "      <td>12</td>\n",
              "    </tr>\n",
              "    <tr>\n",
              "      <th>34217</th>\n",
              "      <td>31/12/2021</td>\n",
              "      <td>23:45</td>\n",
              "      <td>-2</td>\n",
              "      <td>1035.6</td>\n",
              "      <td>0.0</td>\n",
              "      <td>0</td>\n",
              "      <td>0.0</td>\n",
              "      <td>12</td>\n",
              "    </tr>\n",
              "  </tbody>\n",
              "</table>\n",
              "</div>\n",
              "    <div class=\"colab-df-buttons\">\n",
              "\n",
              "  <div class=\"colab-df-container\">\n",
              "    <button class=\"colab-df-convert\" onclick=\"convertToInteractive('df-ed8b3640-5cf8-4804-8182-1bd631e2fa49')\"\n",
              "            title=\"Convert this dataframe to an interactive table.\"\n",
              "            style=\"display:none;\">\n",
              "\n",
              "  <svg xmlns=\"http://www.w3.org/2000/svg\" height=\"24px\" viewBox=\"0 -960 960 960\">\n",
              "    <path d=\"M120-120v-720h720v720H120Zm60-500h600v-160H180v160Zm220 220h160v-160H400v160Zm0 220h160v-160H400v160ZM180-400h160v-160H180v160Zm440 0h160v-160H620v160ZM180-180h160v-160H180v160Zm440 0h160v-160H620v160Z\"/>\n",
              "  </svg>\n",
              "    </button>\n",
              "\n",
              "  <style>\n",
              "    .colab-df-container {\n",
              "      display:flex;\n",
              "      gap: 12px;\n",
              "    }\n",
              "\n",
              "    .colab-df-convert {\n",
              "      background-color: #E8F0FE;\n",
              "      border: none;\n",
              "      border-radius: 50%;\n",
              "      cursor: pointer;\n",
              "      display: none;\n",
              "      fill: #1967D2;\n",
              "      height: 32px;\n",
              "      padding: 0 0 0 0;\n",
              "      width: 32px;\n",
              "    }\n",
              "\n",
              "    .colab-df-convert:hover {\n",
              "      background-color: #E2EBFA;\n",
              "      box-shadow: 0px 1px 2px rgba(60, 64, 67, 0.3), 0px 1px 3px 1px rgba(60, 64, 67, 0.15);\n",
              "      fill: #174EA6;\n",
              "    }\n",
              "\n",
              "    .colab-df-buttons div {\n",
              "      margin-bottom: 4px;\n",
              "    }\n",
              "\n",
              "    [theme=dark] .colab-df-convert {\n",
              "      background-color: #3B4455;\n",
              "      fill: #D2E3FC;\n",
              "    }\n",
              "\n",
              "    [theme=dark] .colab-df-convert:hover {\n",
              "      background-color: #434B5C;\n",
              "      box-shadow: 0px 1px 3px 1px rgba(0, 0, 0, 0.15);\n",
              "      filter: drop-shadow(0px 1px 2px rgba(0, 0, 0, 0.3));\n",
              "      fill: #FFFFFF;\n",
              "    }\n",
              "  </style>\n",
              "\n",
              "    <script>\n",
              "      const buttonEl =\n",
              "        document.querySelector('#df-ed8b3640-5cf8-4804-8182-1bd631e2fa49 button.colab-df-convert');\n",
              "      buttonEl.style.display =\n",
              "        google.colab.kernel.accessAllowed ? 'block' : 'none';\n",
              "\n",
              "      async function convertToInteractive(key) {\n",
              "        const element = document.querySelector('#df-ed8b3640-5cf8-4804-8182-1bd631e2fa49');\n",
              "        const dataTable =\n",
              "          await google.colab.kernel.invokeFunction('convertToInteractive',\n",
              "                                                    [key], {});\n",
              "        if (!dataTable) return;\n",
              "\n",
              "        const docLinkHtml = 'Like what you see? Visit the ' +\n",
              "          '<a target=\"_blank\" href=https://colab.research.google.com/notebooks/data_table.ipynb>data table notebook</a>'\n",
              "          + ' to learn more about interactive tables.';\n",
              "        element.innerHTML = '';\n",
              "        dataTable['output_type'] = 'display_data';\n",
              "        await google.colab.output.renderOutput(dataTable, element);\n",
              "        const docLink = document.createElement('div');\n",
              "        docLink.innerHTML = docLinkHtml;\n",
              "        element.appendChild(docLink);\n",
              "      }\n",
              "    </script>\n",
              "  </div>\n",
              "\n",
              "\n",
              "<div id=\"df-8a586f6c-e18b-42d7-a310-edcd37d238a1\">\n",
              "  <button class=\"colab-df-quickchart\" onclick=\"quickchart('df-8a586f6c-e18b-42d7-a310-edcd37d238a1')\"\n",
              "            title=\"Suggest charts\"\n",
              "            style=\"display:none;\">\n",
              "\n",
              "<svg xmlns=\"http://www.w3.org/2000/svg\" height=\"24px\"viewBox=\"0 0 24 24\"\n",
              "     width=\"24px\">\n",
              "    <g>\n",
              "        <path d=\"M19 3H5c-1.1 0-2 .9-2 2v14c0 1.1.9 2 2 2h14c1.1 0 2-.9 2-2V5c0-1.1-.9-2-2-2zM9 17H7v-7h2v7zm4 0h-2V7h2v10zm4 0h-2v-4h2v4z\"/>\n",
              "    </g>\n",
              "</svg>\n",
              "  </button>\n",
              "\n",
              "<style>\n",
              "  .colab-df-quickchart {\n",
              "      --bg-color: #E8F0FE;\n",
              "      --fill-color: #1967D2;\n",
              "      --hover-bg-color: #E2EBFA;\n",
              "      --hover-fill-color: #174EA6;\n",
              "      --disabled-fill-color: #AAA;\n",
              "      --disabled-bg-color: #DDD;\n",
              "  }\n",
              "\n",
              "  [theme=dark] .colab-df-quickchart {\n",
              "      --bg-color: #3B4455;\n",
              "      --fill-color: #D2E3FC;\n",
              "      --hover-bg-color: #434B5C;\n",
              "      --hover-fill-color: #FFFFFF;\n",
              "      --disabled-bg-color: #3B4455;\n",
              "      --disabled-fill-color: #666;\n",
              "  }\n",
              "\n",
              "  .colab-df-quickchart {\n",
              "    background-color: var(--bg-color);\n",
              "    border: none;\n",
              "    border-radius: 50%;\n",
              "    cursor: pointer;\n",
              "    display: none;\n",
              "    fill: var(--fill-color);\n",
              "    height: 32px;\n",
              "    padding: 0;\n",
              "    width: 32px;\n",
              "  }\n",
              "\n",
              "  .colab-df-quickchart:hover {\n",
              "    background-color: var(--hover-bg-color);\n",
              "    box-shadow: 0 1px 2px rgba(60, 64, 67, 0.3), 0 1px 3px 1px rgba(60, 64, 67, 0.15);\n",
              "    fill: var(--button-hover-fill-color);\n",
              "  }\n",
              "\n",
              "  .colab-df-quickchart-complete:disabled,\n",
              "  .colab-df-quickchart-complete:disabled:hover {\n",
              "    background-color: var(--disabled-bg-color);\n",
              "    fill: var(--disabled-fill-color);\n",
              "    box-shadow: none;\n",
              "  }\n",
              "\n",
              "  .colab-df-spinner {\n",
              "    border: 2px solid var(--fill-color);\n",
              "    border-color: transparent;\n",
              "    border-bottom-color: var(--fill-color);\n",
              "    animation:\n",
              "      spin 1s steps(1) infinite;\n",
              "  }\n",
              "\n",
              "  @keyframes spin {\n",
              "    0% {\n",
              "      border-color: transparent;\n",
              "      border-bottom-color: var(--fill-color);\n",
              "      border-left-color: var(--fill-color);\n",
              "    }\n",
              "    20% {\n",
              "      border-color: transparent;\n",
              "      border-left-color: var(--fill-color);\n",
              "      border-top-color: var(--fill-color);\n",
              "    }\n",
              "    30% {\n",
              "      border-color: transparent;\n",
              "      border-left-color: var(--fill-color);\n",
              "      border-top-color: var(--fill-color);\n",
              "      border-right-color: var(--fill-color);\n",
              "    }\n",
              "    40% {\n",
              "      border-color: transparent;\n",
              "      border-right-color: var(--fill-color);\n",
              "      border-top-color: var(--fill-color);\n",
              "    }\n",
              "    60% {\n",
              "      border-color: transparent;\n",
              "      border-right-color: var(--fill-color);\n",
              "    }\n",
              "    80% {\n",
              "      border-color: transparent;\n",
              "      border-right-color: var(--fill-color);\n",
              "      border-bottom-color: var(--fill-color);\n",
              "    }\n",
              "    90% {\n",
              "      border-color: transparent;\n",
              "      border-bottom-color: var(--fill-color);\n",
              "    }\n",
              "  }\n",
              "</style>\n",
              "\n",
              "  <script>\n",
              "    async function quickchart(key) {\n",
              "      const quickchartButtonEl =\n",
              "        document.querySelector('#' + key + ' button');\n",
              "      quickchartButtonEl.disabled = true;  // To prevent multiple clicks.\n",
              "      quickchartButtonEl.classList.add('colab-df-spinner');\n",
              "      try {\n",
              "        const charts = await google.colab.kernel.invokeFunction(\n",
              "            'suggestCharts', [key], {});\n",
              "      } catch (error) {\n",
              "        console.error('Error during call to suggestCharts:', error);\n",
              "      }\n",
              "      quickchartButtonEl.classList.remove('colab-df-spinner');\n",
              "      quickchartButtonEl.classList.add('colab-df-quickchart-complete');\n",
              "    }\n",
              "    (() => {\n",
              "      let quickchartButtonEl =\n",
              "        document.querySelector('#df-8a586f6c-e18b-42d7-a310-edcd37d238a1 button');\n",
              "      quickchartButtonEl.style.display =\n",
              "        google.colab.kernel.accessAllowed ? 'block' : 'none';\n",
              "    })();\n",
              "  </script>\n",
              "</div>\n",
              "\n",
              "    </div>\n",
              "  </div>\n"
            ],
            "application/vnd.google.colaboratory.intrinsic+json": {
              "type": "dataframe",
              "repr_error": "0"
            }
          },
          "metadata": {},
          "execution_count": 45
        }
      ]
    },
    {
      "cell_type": "markdown",
      "source": [
        "# Median temperature for each month (not sure why different)"
      ],
      "metadata": {
        "id": "Jf6suorJtkHJ"
      }
    },
    {
      "cell_type": "code",
      "source": [
        "# first convert to datetime\n",
        "df[\"Date\"] = pd.to_datetime(df[\"Date\"], format=\"%d/%m/%Y\")  # Adjust format if necessary\n",
        "df[\"month\"] = df[\"Date\"].dt.month\n",
        "\n",
        "# some of the temperature valeus are = ---, these must be removed\n",
        "df = df.loc[df[\"Temperature\"]!= \"---\"]\n",
        "# now that incorrect values are removed they can be converted to string\n",
        "df[\"Temperature\"] = df[\"Temperature\"].astype(float)\n",
        "\n",
        "df.groupby(\"month\")[\"Temperature\"].median()"
      ],
      "metadata": {
        "colab": {
          "base_uri": "https://localhost:8080/",
          "height": 491
        },
        "id": "NgpBwU8CwST_",
        "outputId": "d34fd4f8-4da8-4e65-faf2-e74f05a2f9a4"
      },
      "execution_count": 201,
      "outputs": [
        {
          "output_type": "execute_result",
          "data": {
            "text/plain": [
              "month\n",
              "1     -2.70\n",
              "2      2.00\n",
              "3      3.70\n",
              "4      6.70\n",
              "5      9.70\n",
              "6     16.90\n",
              "7     17.45\n",
              "8     17.10\n",
              "9     14.10\n",
              "10     7.70\n",
              "11     2.80\n",
              "12    -2.10\n",
              "Name: Temperature, dtype: float64"
            ],
            "text/html": [
              "<div>\n",
              "<style scoped>\n",
              "    .dataframe tbody tr th:only-of-type {\n",
              "        vertical-align: middle;\n",
              "    }\n",
              "\n",
              "    .dataframe tbody tr th {\n",
              "        vertical-align: top;\n",
              "    }\n",
              "\n",
              "    .dataframe thead th {\n",
              "        text-align: right;\n",
              "    }\n",
              "</style>\n",
              "<table border=\"1\" class=\"dataframe\">\n",
              "  <thead>\n",
              "    <tr style=\"text-align: right;\">\n",
              "      <th></th>\n",
              "      <th>Temperature</th>\n",
              "    </tr>\n",
              "    <tr>\n",
              "      <th>month</th>\n",
              "      <th></th>\n",
              "    </tr>\n",
              "  </thead>\n",
              "  <tbody>\n",
              "    <tr>\n",
              "      <th>1</th>\n",
              "      <td>-2.70</td>\n",
              "    </tr>\n",
              "    <tr>\n",
              "      <th>2</th>\n",
              "      <td>2.00</td>\n",
              "    </tr>\n",
              "    <tr>\n",
              "      <th>3</th>\n",
              "      <td>3.70</td>\n",
              "    </tr>\n",
              "    <tr>\n",
              "      <th>4</th>\n",
              "      <td>6.70</td>\n",
              "    </tr>\n",
              "    <tr>\n",
              "      <th>5</th>\n",
              "      <td>9.70</td>\n",
              "    </tr>\n",
              "    <tr>\n",
              "      <th>6</th>\n",
              "      <td>16.90</td>\n",
              "    </tr>\n",
              "    <tr>\n",
              "      <th>7</th>\n",
              "      <td>17.45</td>\n",
              "    </tr>\n",
              "    <tr>\n",
              "      <th>8</th>\n",
              "      <td>17.10</td>\n",
              "    </tr>\n",
              "    <tr>\n",
              "      <th>9</th>\n",
              "      <td>14.10</td>\n",
              "    </tr>\n",
              "    <tr>\n",
              "      <th>10</th>\n",
              "      <td>7.70</td>\n",
              "    </tr>\n",
              "    <tr>\n",
              "      <th>11</th>\n",
              "      <td>2.80</td>\n",
              "    </tr>\n",
              "    <tr>\n",
              "      <th>12</th>\n",
              "      <td>-2.10</td>\n",
              "    </tr>\n",
              "  </tbody>\n",
              "</table>\n",
              "</div><br><label><b>dtype:</b> float64</label>"
            ]
          },
          "metadata": {},
          "execution_count": 201
        }
      ]
    },
    {
      "cell_type": "markdown",
      "source": [
        "# Total rainfall by month"
      ],
      "metadata": {
        "id": "0nwUfggOuAd7"
      }
    },
    {
      "cell_type": "code",
      "source": [
        "df = pd.read_csv(\"/content/export_2021.txt\", sep=\"\\t\")\n",
        "df[\"month\"] = df[\"Date\"].str.split(\"/\").str[1]\n",
        "df[\"year\"] = df[\"Date\"].str.split(\"/\").str[2]\n",
        "\n",
        "df = df.loc[(df[\"month\"]!= \"---\") & (df[\"year\"]!= \"---\")  & (df[\"Temperature\"]!= \"---\")]\n",
        "df[\"Rain\"].astype(float)\n",
        "df.groupby(\"month\")[\"Rain\"].sum()"
      ],
      "metadata": {
        "colab": {
          "base_uri": "https://localhost:8080/",
          "height": 491
        },
        "id": "tk0FJnQoYCUf",
        "outputId": "c4ac8152-0ec3-4f26-b94f-92d45fdc04b7"
      },
      "execution_count": 203,
      "outputs": [
        {
          "output_type": "execute_result",
          "data": {
            "text/plain": [
              "month\n",
              "01     28.4\n",
              "02     17.0\n",
              "03     10.2\n",
              "04     58.0\n",
              "05    147.8\n",
              "06     45.4\n",
              "07     33.0\n",
              "08     14.0\n",
              "09     58.0\n",
              "10     36.2\n",
              "11     39.2\n",
              "12     59.4\n",
              "Name: Rain, dtype: float64"
            ],
            "text/html": [
              "<div>\n",
              "<style scoped>\n",
              "    .dataframe tbody tr th:only-of-type {\n",
              "        vertical-align: middle;\n",
              "    }\n",
              "\n",
              "    .dataframe tbody tr th {\n",
              "        vertical-align: top;\n",
              "    }\n",
              "\n",
              "    .dataframe thead th {\n",
              "        text-align: right;\n",
              "    }\n",
              "</style>\n",
              "<table border=\"1\" class=\"dataframe\">\n",
              "  <thead>\n",
              "    <tr style=\"text-align: right;\">\n",
              "      <th></th>\n",
              "      <th>Rain</th>\n",
              "    </tr>\n",
              "    <tr>\n",
              "      <th>month</th>\n",
              "      <th></th>\n",
              "    </tr>\n",
              "  </thead>\n",
              "  <tbody>\n",
              "    <tr>\n",
              "      <th>01</th>\n",
              "      <td>28.4</td>\n",
              "    </tr>\n",
              "    <tr>\n",
              "      <th>02</th>\n",
              "      <td>17.0</td>\n",
              "    </tr>\n",
              "    <tr>\n",
              "      <th>03</th>\n",
              "      <td>10.2</td>\n",
              "    </tr>\n",
              "    <tr>\n",
              "      <th>04</th>\n",
              "      <td>58.0</td>\n",
              "    </tr>\n",
              "    <tr>\n",
              "      <th>05</th>\n",
              "      <td>147.8</td>\n",
              "    </tr>\n",
              "    <tr>\n",
              "      <th>06</th>\n",
              "      <td>45.4</td>\n",
              "    </tr>\n",
              "    <tr>\n",
              "      <th>07</th>\n",
              "      <td>33.0</td>\n",
              "    </tr>\n",
              "    <tr>\n",
              "      <th>08</th>\n",
              "      <td>14.0</td>\n",
              "    </tr>\n",
              "    <tr>\n",
              "      <th>09</th>\n",
              "      <td>58.0</td>\n",
              "    </tr>\n",
              "    <tr>\n",
              "      <th>10</th>\n",
              "      <td>36.2</td>\n",
              "    </tr>\n",
              "    <tr>\n",
              "      <th>11</th>\n",
              "      <td>39.2</td>\n",
              "    </tr>\n",
              "    <tr>\n",
              "      <th>12</th>\n",
              "      <td>59.4</td>\n",
              "    </tr>\n",
              "  </tbody>\n",
              "</table>\n",
              "</div><br><label><b>dtype:</b> float64</label>"
            ]
          },
          "metadata": {},
          "execution_count": 203
        }
      ]
    },
    {
      "cell_type": "markdown",
      "source": [
        "# Total rainfall 2021"
      ],
      "metadata": {
        "id": "uINmwR6KuKa5"
      }
    },
    {
      "cell_type": "code",
      "source": [
        "df = pd.read_csv(\"/content/export_2021.txt\", sep=\"\\t\")\n",
        "df[\"month\"] = df[\"Date\"].str.split(\"/\").str[1]\n",
        "df[\"year\"] = df[\"Date\"].str.split(\"/\").str[2]\n",
        "\n",
        "df = df.loc[(df[\"month\"]!= \"---\") & (df[\"year\"]!= \"---\")  & (df[\"Temperature\"]!= \"---\")]\n",
        "df[\"Rain\"].astype(float)\n",
        "total_rain = df.loc[df[\"year\"]==\"2021\"][\"Rain\"].sum()\n",
        "print(f\"total rainfall in 2021 = {total_rain}\")"
      ],
      "metadata": {
        "colab": {
          "base_uri": "https://localhost:8080/"
        },
        "id": "4iTOM4DRaO_P",
        "outputId": "bd187a51-d9ca-47f8-ba3d-35b0bab65a9f"
      },
      "execution_count": 205,
      "outputs": [
        {
          "output_type": "stream",
          "name": "stdout",
          "text": [
            "total rainfall in 2021 = 546.6\n"
          ]
        }
      ]
    },
    {
      "cell_type": "markdown",
      "source": [
        "# Total of no windy days in 2021\n",
        "(not a very elegant way)"
      ],
      "metadata": {
        "id": "dvqW-UG7ax0e"
      }
    },
    {
      "cell_type": "code",
      "source": [
        "df = pd.read_csv(\"/content/export_2021.txt\", sep=\"\\t\")\n",
        "# creating month field from date\n",
        "df[\"year\"] = df[\"Date\"].str.split(\"/\").str[2]\n",
        "\n",
        "# convert wind field to numeric values using astype()\n",
        "df[\"wind_speed\"] = df[\"wind_speed\"].astype(float)\n",
        "# filter by windspeed = 0 and year = 2021\n",
        "df = df.loc[df[\"year\"]==\"2021\"]\n",
        "# group by date\n",
        "result = len([x for x in df.groupby(\"Date\")[\"wind_speed\"].sum() if x == 0])\n",
        "print(f\"number of days without wind in 2021 = {result}\")"
      ],
      "metadata": {
        "colab": {
          "base_uri": "https://localhost:8080/"
        },
        "id": "VoXsXdDUats6",
        "outputId": "003c20a6-6f22-4fba-87fa-0536e05b78d8"
      },
      "execution_count": 207,
      "outputs": [
        {
          "output_type": "stream",
          "name": "stdout",
          "text": [
            "number of days without wind in 2021 = 9\n"
          ]
        }
      ]
    },
    {
      "cell_type": "markdown",
      "source": [
        "# Display the data on a plot divided into 4 subplots:\n",
        "1. Subplot 1: raw rainfall data\n",
        "2. Subplot 2: cumulative daily rainfall\n",
        "3. Subplot 3: monthly median temperature and the cumulative monthly rainfalls (x-axis :\n",
        "time, y_axis1 : median temperature, y-axis 2 : monthly rainfall – bar chart plot)\n",
        "4. days without wind\n",
        "\n",
        "\n",
        "> not sure why values are shifted compared to expected results."
      ],
      "metadata": {
        "id": "JDMOnxMtjMKa"
      }
    },
    {
      "cell_type": "code",
      "source": [
        "from re import X\n",
        "import matplotlib.pyplot as plt\n",
        "from datetime import datetime\n",
        "\n",
        "# open file again\n",
        "df = pd.read_csv(\"/content/export_2021.txt\", sep=\"\\t\")\n",
        "\n",
        "df[\"Date\"] = pd.to_datetime(df[\"Date\"], format='%d/%m/%Y')\n",
        "df[\"month\"] = df[\"Date\"].dt.month\n",
        "df[\"year\"] = df[\"Date\"].dt.month\n",
        "\n",
        "fig, axs = plt.subplots(nrows= 2, ncols=2, figsize=(15, 10))\n",
        "# plot rainfall data\n",
        "axs[0][0].scatter(df[\"Date\"], df[\"Rain\"].astype(float))\n",
        "axs[0][0].set_title(\"Raw Rainfall Data\")\n",
        "\n",
        "# daily rainfall data\n",
        "daily_rainfall = df.groupby(\"Date\")[\"Rain\"].sum()\n",
        "\n",
        "axs[0][1].scatter(daily_rainfall.index, daily_rainfall.values)\n",
        "axs[0][1].set_title(\"Cumulative Daily Rainfall\")\n",
        "axs[0][1].grid()\n",
        "\n",
        "# monthly median temperature\n",
        "temp_df = df.loc[df[\"Temperature\"]!= \"---\"] # remove incorrect values\n",
        "temp_df[\"Temperature\"] = temp_df[\"Temperature\"].astype(float) # then convert to float\n",
        "temp_df_results = temp_df.groupby(\"month\")[\"Temperature\"].median()\n",
        "axs[1][0].scatter(temp_df_results.index, temp_df_results.values, c=\"red\")\n",
        "axs[1][0].set_title(\"Monthly Median Temperature\")\n",
        "\n",
        "# cumulative monthly rainfall\n",
        "month_rain_df = df.groupby(\"month\")[\"Rain\"].sum()\n",
        "axs[1][0].bar(month_rain_df.index, month_rain_df.values, width=0.1)\n",
        "axs[1][0].set_title(\"Cumulative Monthly Rainfall\")\n",
        "\n",
        "# days without wind (not elegant but it works)\n",
        "df[\"wind_speed\"] = df[\"wind_speed\"].astype(float)\n",
        "yvalues = [1 for x in df.groupby(\"Date\")[\"wind_speed\"].sum() if x == 0]\n",
        "\n",
        "zz = zip(df.groupby(\"Date\")[\"wind_speed\"].sum().index, df.groupby(\"Date\")[\"wind_speed\"].sum())\n",
        "xvalues = [x[0] for x in zz if x[1]==0]\n",
        "axs[1][1].bar(xvalues, yvalues, color=\"green\")\n",
        "axs[1][1].set_title(\"Days without wind\")\n",
        "plt.show()"
      ],
      "metadata": {
        "colab": {
          "base_uri": "https://localhost:8080/",
          "height": 665
        },
        "id": "q9DojxrObR_a",
        "outputId": "e754c1fd-4020-485c-d9d7-07e961fbccf4"
      },
      "execution_count": 223,
      "outputs": [
        {
          "output_type": "stream",
          "name": "stderr",
          "text": [
            "<ipython-input-223-d43d83235666>:26: SettingWithCopyWarning: \n",
            "A value is trying to be set on a copy of a slice from a DataFrame.\n",
            "Try using .loc[row_indexer,col_indexer] = value instead\n",
            "\n",
            "See the caveats in the documentation: https://pandas.pydata.org/pandas-docs/stable/user_guide/indexing.html#returning-a-view-versus-a-copy\n",
            "  temp_df[\"Temperature\"] = temp_df[\"Temperature\"].astype(float) # then convert to float\n"
          ]
        },
        {
          "output_type": "display_data",
          "data": {
            "text/plain": [
              "<Figure size 1500x1000 with 4 Axes>"
            ],
            "image/png": "[encoded data removed]"
          },
          "metadata": {}
        }
      ]
    }
  ]
}